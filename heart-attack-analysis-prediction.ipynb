{
 "cells": [
  {
   "cell_type": "code",
   "execution_count": 1,
   "id": "a0433490",
   "metadata": {
    "_cell_guid": "b1076dfc-b9ad-4769-8c92-a6c4dae69d19",
    "_uuid": "8f2839f25d086af736a60e9eeb907d3b93b6e0e5",
    "execution": {
     "iopub.execute_input": "2022-11-22T18:27:09.010442Z",
     "iopub.status.busy": "2022-11-22T18:27:09.009330Z",
     "iopub.status.idle": "2022-11-22T18:27:09.030919Z",
     "shell.execute_reply": "2022-11-22T18:27:09.029640Z"
    },
    "papermill": {
     "duration": 0.039876,
     "end_time": "2022-11-22T18:27:09.033727",
     "exception": false,
     "start_time": "2022-11-22T18:27:08.993851",
     "status": "completed"
    },
    "tags": []
   },
   "outputs": [],
   "source": [
    "\n",
    "import numpy as np # linear algebra\n",
    "import pandas as pd # data processing, CSV file I/O (e.g. pd.read_csv)\n",
    "\n",
    "\n",
    "import os\n",
    "for dirname, _, filenames in os.walk('/kaggle/input'):\n",
    "    for filename in filenames:\n",
    "        print(os.path.join(dirname, filename))\n",
    "\n",
   ]
  },
  {
   "cell_type": "code",
   "execution_count": 2,
   "id": "0704c9dc",
   "metadata": {
    "execution": {
     "iopub.execute_input": "2022-11-22T18:27:09.062606Z",
     "iopub.status.busy": "2022-11-22T18:27:09.061813Z",
     "iopub.status.idle": "2022-11-22T18:27:09.090909Z",
     "shell.execute_reply": "2022-11-22T18:27:09.089862Z"
    },
    "papermill": {
     "duration": 0.047617,
     "end_time": "2022-11-22T18:27:09.093936",
     "exception": false,
     "start_time": "2022-11-22T18:27:09.046319",
     "status": "completed"
    },
    "tags": []
   },
   "outputs": [],
   "source": [
    "df= pd.read_csv('heart.csv')\n",
    "df1= pd.read_csv('o2Saturation.csv')"
   ]
  },
  {
   "cell_type": "markdown",
   "id": "3e5674a4",
   "metadata": {
    "papermill": {
     "duration": 0.011701,
     "end_time": "2022-11-22T18:27:09.118489",
     "exception": false,
     "start_time": "2022-11-22T18:27:09.106788",
     "status": "completed"
    },
    "tags": []
   },
   "source": [
    "**About Dataset **\n",
    "\n",
    "Age : Age of the patient\n",
    "\n",
    "Sex : Sex of the patient\n",
    "\n",
    "exang: exercise induced angina (1 = yes; 0 = no)\n",
    "\n",
    "ca: number of major vessels (0-3)\n",
    "\n",
    "cp : Chest Pain type chest pain type\n",
    "\n",
    "Value 1: typical angina\n",
    "Value 2: atypical angina\n",
    "Value 3: non-anginal pain\n",
    "Value 4: asymptomatic\n",
    "trtbps : resting blood pressure (in mm Hg)\n",
    "\n",
    "chol : cholestoral in mg/dl fetched via BMI sensor\n",
    "\n",
    "fbs : (fasting blood sugar > 120 mg/dl) (1 = true; 0 = false)\n",
    "\n",
    "rest_ecg : resting electrocardiographic results\n",
    "\n",
    "Value 0: normal\n",
    "Value 1: having ST-T wave abnormality (T wave inversions and/or ST elevation or depression of > 0.05 mV)\n",
    "Value 2: showing probable or definite left ventricular hypertrophy by Estes' criteria\n",
    "thalach : maximum heart rate achieved\n",
    "\n",
    "target : 0= less chance of heart attack 1= more chance of heart attack"
   ]
  },
  {
   "cell_type": "code",
   "execution_count": 3,
   "id": "f5ce8862",
   "metadata": {
    "execution": {
     "iopub.execute_input": "2022-11-22T18:27:09.144854Z",
     "iopub.status.busy": "2022-11-22T18:27:09.144083Z",
     "iopub.status.idle": "2022-11-22T18:27:09.174361Z",
     "shell.execute_reply": "2022-11-22T18:27:09.173134Z"
    },
    "papermill": {
     "duration": 0.046328,
     "end_time": "2022-11-22T18:27:09.176851",
     "exception": false,
     "start_time": "2022-11-22T18:27:09.130523",
     "status": "completed"
    },
    "tags": []
   },
   "outputs": [
    {
     "data": {
      "text/html": [
       "<div>\n",
       "<style scoped>\n",
       "    .dataframe tbody tr th:only-of-type {\n",
       "        vertical-align: middle;\n",
       "    }\n",
       "\n",
       "    .dataframe tbody tr th {\n",
       "        vertical-align: top;\n",
       "    }\n",
       "\n",
       "    .dataframe thead th {\n",
       "        text-align: right;\n",
       "    }\n",
       "</style>\n",
       "<table border=\"1\" class=\"dataframe\">\n",
       "  <thead>\n",
       "    <tr style=\"text-align: right;\">\n",
       "      <th></th>\n",
       "      <th>age</th>\n",
       "      <th>sex</th>\n",
       "      <th>cp</th>\n",
       "      <th>trtbps</th>\n",
       "      <th>chol</th>\n",
       "      <th>fbs</th>\n",
       "      <th>restecg</th>\n",
       "      <th>thalachh</th>\n",
       "      <th>exng</th>\n",
       "      <th>oldpeak</th>\n",
       "      <th>slp</th>\n",
       "      <th>caa</th>\n",
       "      <th>thall</th>\n",
       "      <th>output</th>\n",
       "    </tr>\n",
       "  </thead>\n",
       "  <tbody>\n",
       "    <tr>\n",
       "      <th>0</th>\n",
       "      <td>63</td>\n",
       "      <td>1</td>\n",
       "      <td>3</td>\n",
       "      <td>145</td>\n",
       "      <td>233</td>\n",
       "      <td>1</td>\n",
       "      <td>0</td>\n",
       "      <td>150</td>\n",
       "      <td>0</td>\n",
       "      <td>2.3</td>\n",
       "      <td>0</td>\n",
       "      <td>0</td>\n",
       "      <td>1</td>\n",
       "      <td>1</td>\n",
       "    </tr>\n",
       "    <tr>\n",
       "      <th>1</th>\n",
       "      <td>37</td>\n",
       "      <td>1</td>\n",
       "      <td>2</td>\n",
       "      <td>130</td>\n",
       "      <td>250</td>\n",
       "      <td>0</td>\n",
       "      <td>1</td>\n",
       "      <td>187</td>\n",
       "      <td>0</td>\n",
       "      <td>3.5</td>\n",
       "      <td>0</td>\n",
       "      <td>0</td>\n",
       "      <td>2</td>\n",
       "      <td>1</td>\n",
       "    </tr>\n",
       "    <tr>\n",
       "      <th>2</th>\n",
       "      <td>41</td>\n",
       "      <td>0</td>\n",
       "      <td>1</td>\n",
       "      <td>130</td>\n",
       "      <td>204</td>\n",
       "      <td>0</td>\n",
       "      <td>0</td>\n",
       "      <td>172</td>\n",
       "      <td>0</td>\n",
       "      <td>1.4</td>\n",
       "      <td>2</td>\n",
       "      <td>0</td>\n",
       "      <td>2</td>\n",
       "      <td>1</td>\n",
       "    </tr>\n",
       "    <tr>\n",
       "      <th>3</th>\n",
       "      <td>56</td>\n",
       "      <td>1</td>\n",
       "      <td>1</td>\n",
       "      <td>120</td>\n",
       "      <td>236</td>\n",
       "      <td>0</td>\n",
       "      <td>1</td>\n",
       "      <td>178</td>\n",
       "      <td>0</td>\n",
       "      <td>0.8</td>\n",
       "      <td>2</td>\n",
       "      <td>0</td>\n",
       "      <td>2</td>\n",
       "      <td>1</td>\n",
       "    </tr>\n",
       "    <tr>\n",
       "      <th>4</th>\n",
       "      <td>57</td>\n",
       "      <td>0</td>\n",
       "      <td>0</td>\n",
       "      <td>120</td>\n",
       "      <td>354</td>\n",
       "      <td>0</td>\n",
       "      <td>1</td>\n",
       "      <td>163</td>\n",
       "      <td>1</td>\n",
       "      <td>0.6</td>\n",
       "      <td>2</td>\n",
       "      <td>0</td>\n",
       "      <td>2</td>\n",
       "      <td>1</td>\n",
       "    </tr>\n",
       "  </tbody>\n",
       "</table>\n",
       "</div>"
      ],
      "text/plain": [
       "   age  sex  cp  trtbps  chol  fbs  restecg  thalachh  exng  oldpeak  slp   \n",
       "0   63    1   3     145   233    1        0       150     0      2.3    0  \\\n",
       "1   37    1   2     130   250    0        1       187     0      3.5    0   \n",
       "2   41    0   1     130   204    0        0       172     0      1.4    2   \n",
       "3   56    1   1     120   236    0        1       178     0      0.8    2   \n",
       "4   57    0   0     120   354    0        1       163     1      0.6    2   \n",
       "\n",
       "   caa  thall  output  \n",
       "0    0      1       1  \n",
       "1    0      2       1  \n",
       "2    0      2       1  \n",
       "3    0      2       1  \n",
       "4    0      2       1  "
      ]
     },
     "execution_count": 3,
     "metadata": {},
     "output_type": "execute_result"
    }
   ],
   "source": [
    "df.head()"
   ]
  },
  {
   "cell_type": "code",
   "execution_count": 4,
   "id": "e9041432",
   "metadata": {
    "execution": {
     "iopub.execute_input": "2022-11-22T18:27:09.203568Z",
     "iopub.status.busy": "2022-11-22T18:27:09.202780Z",
     "iopub.status.idle": "2022-11-22T18:27:09.212739Z",
     "shell.execute_reply": "2022-11-22T18:27:09.211743Z"
    },
    "papermill": {
     "duration": 0.025891,
     "end_time": "2022-11-22T18:27:09.215025",
     "exception": false,
     "start_time": "2022-11-22T18:27:09.189134",
     "status": "completed"
    },
    "tags": []
   },
   "outputs": [
    {
     "data": {
      "text/html": [
       "<div>\n",
       "<style scoped>\n",
       "    .dataframe tbody tr th:only-of-type {\n",
       "        vertical-align: middle;\n",
       "    }\n",
       "\n",
       "    .dataframe tbody tr th {\n",
       "        vertical-align: top;\n",
       "    }\n",
       "\n",
       "    .dataframe thead th {\n",
       "        text-align: right;\n",
       "    }\n",
       "</style>\n",
       "<table border=\"1\" class=\"dataframe\">\n",
       "  <thead>\n",
       "    <tr style=\"text-align: right;\">\n",
       "      <th></th>\n",
       "      <th>98.6</th>\n",
       "    </tr>\n",
       "  </thead>\n",
       "  <tbody>\n",
       "    <tr>\n",
       "      <th>0</th>\n",
       "      <td>98.6</td>\n",
       "    </tr>\n",
       "    <tr>\n",
       "      <th>1</th>\n",
       "      <td>98.6</td>\n",
       "    </tr>\n",
       "    <tr>\n",
       "      <th>2</th>\n",
       "      <td>98.6</td>\n",
       "    </tr>\n",
       "    <tr>\n",
       "      <th>3</th>\n",
       "      <td>98.1</td>\n",
       "    </tr>\n",
       "    <tr>\n",
       "      <th>4</th>\n",
       "      <td>97.5</td>\n",
       "    </tr>\n",
       "  </tbody>\n",
       "</table>\n",
       "</div>"
      ],
      "text/plain": [
       "   98.6\n",
       "0  98.6\n",
       "1  98.6\n",
       "2  98.6\n",
       "3  98.1\n",
       "4  97.5"
      ]
     },
     "execution_count": 4,
     "metadata": {},
     "output_type": "execute_result"
    }
   ],
   "source": [
    "df1.head()"
   ]
  },
  {
   "cell_type": "markdown",
   "id": "024e6806",
   "metadata": {
    "papermill": {
     "duration": 0.012117,
     "end_time": "2022-11-22T18:27:09.239542",
     "exception": false,
     "start_time": "2022-11-22T18:27:09.227425",
     "status": "completed"
    },
    "tags": []
   },
   "source": [
    "# **EDA**\n",
    "\n",
    "Let's start with exploring the features which influence the output "
   ]
  },
  {
   "cell_type": "markdown",
   "id": "56cc1158",
   "metadata": {
    "papermill": {
     "duration": 0.012151,
     "end_time": "2022-11-22T18:27:09.264162",
     "exception": false,
     "start_time": "2022-11-22T18:27:09.252011",
     "status": "completed"
    },
    "tags": []
   },
   "source": [
    "\n",
    "Data types of df"
   ]
  },
  {
   "cell_type": "code",
   "execution_count": 5,
   "id": "d8dda8a5",
   "metadata": {
    "execution": {
     "iopub.execute_input": "2022-11-22T18:27:09.292182Z",
     "iopub.status.busy": "2022-11-22T18:27:09.291410Z",
     "iopub.status.idle": "2022-11-22T18:27:09.300078Z",
     "shell.execute_reply": "2022-11-22T18:27:09.298921Z"
    },
    "papermill": {
     "duration": 0.025932,
     "end_time": "2022-11-22T18:27:09.302617",
     "exception": false,
     "start_time": "2022-11-22T18:27:09.276685",
     "status": "completed"
    },
    "tags": []
   },
   "outputs": [
    {
     "data": {
      "text/plain": [
       "age           int64\n",
       "sex           int64\n",
       "cp            int64\n",
       "trtbps        int64\n",
       "chol          int64\n",
       "fbs           int64\n",
       "restecg       int64\n",
       "thalachh      int64\n",
       "exng          int64\n",
       "oldpeak     float64\n",
       "slp           int64\n",
       "caa           int64\n",
       "thall         int64\n",
       "output        int64\n",
       "dtype: object"
      ]
     },
     "execution_count": 5,
     "metadata": {},
     "output_type": "execute_result"
    }
   ],
   "source": [
    "df.dtypes"
   ]
  },
  {
   "cell_type": "code",
   "execution_count": 6,
   "id": "0c29403d",
   "metadata": {
    "execution": {
     "iopub.execute_input": "2022-11-22T18:27:09.332258Z",
     "iopub.status.busy": "2022-11-22T18:27:09.331504Z",
     "iopub.status.idle": "2022-11-22T18:27:09.340750Z",
     "shell.execute_reply": "2022-11-22T18:27:09.339672Z"
    },
    "papermill": {
     "duration": 0.025413,
     "end_time": "2022-11-22T18:27:09.343096",
     "exception": false,
     "start_time": "2022-11-22T18:27:09.317683",
     "status": "completed"
    },
    "tags": []
   },
   "outputs": [
    {
     "data": {
      "text/plain": [
       "age         0\n",
       "sex         0\n",
       "cp          0\n",
       "trtbps      0\n",
       "chol        0\n",
       "fbs         0\n",
       "restecg     0\n",
       "thalachh    0\n",
       "exng        0\n",
       "oldpeak     0\n",
       "slp         0\n",
       "caa         0\n",
       "thall       0\n",
       "output      0\n",
       "dtype: int64"
      ]
     },
     "execution_count": 6,
     "metadata": {},
     "output_type": "execute_result"
    }
   ],
   "source": [
    "#checking for null values\n",
    "\n",
    "df.isnull().sum()"
   ]
  },
  {
   "cell_type": "code",
   "execution_count": 7,
   "id": "00eb9b7e",
   "metadata": {
    "execution": {
     "iopub.execute_input": "2022-11-22T18:27:09.370255Z",
     "iopub.status.busy": "2022-11-22T18:27:09.369595Z",
     "iopub.status.idle": "2022-11-22T18:27:09.382408Z",
     "shell.execute_reply": "2022-11-22T18:27:09.381560Z"
    },
    "papermill": {
     "duration": 0.029089,
     "end_time": "2022-11-22T18:27:09.384695",
     "exception": false,
     "start_time": "2022-11-22T18:27:09.355606",
     "status": "completed"
    },
    "tags": []
   },
   "outputs": [
    {
     "data": {
      "text/plain": [
       "output\n",
       "1    165\n",
       "0    138\n",
       "Name: count, dtype: int64"
      ]
     },
     "execution_count": 7,
     "metadata": {},
     "output_type": "execute_result"
    }
   ],
   "source": [
    "df.output.value_counts()"
   ]
  },
  {
   "cell_type": "code",
   "execution_count": 8,
   "id": "70813272",
   "metadata": {
    "execution": {
     "iopub.execute_input": "2022-11-22T18:27:09.412917Z",
     "iopub.status.busy": "2022-11-22T18:27:09.412234Z",
     "iopub.status.idle": "2022-11-22T18:27:09.426432Z",
     "shell.execute_reply": "2022-11-22T18:27:09.425514Z"
    },
    "papermill": {
     "duration": 0.030834,
     "end_time": "2022-11-22T18:27:09.428900",
     "exception": false,
     "start_time": "2022-11-22T18:27:09.398066",
     "status": "completed"
    },
    "tags": []
   },
   "outputs": [
    {
     "data": {
      "text/html": [
       "<div>\n",
       "<style scoped>\n",
       "    .dataframe tbody tr th:only-of-type {\n",
       "        vertical-align: middle;\n",
       "    }\n",
       "\n",
       "    .dataframe tbody tr th {\n",
       "        vertical-align: top;\n",
       "    }\n",
       "\n",
       "    .dataframe thead th {\n",
       "        text-align: right;\n",
       "    }\n",
       "</style>\n",
       "<table border=\"1\" class=\"dataframe\">\n",
       "  <thead>\n",
       "    <tr style=\"text-align: right;\">\n",
       "      <th></th>\n",
       "      <th>age</th>\n",
       "      <th>sex</th>\n",
       "      <th>cp</th>\n",
       "      <th>trtbps</th>\n",
       "      <th>chol</th>\n",
       "      <th>fbs</th>\n",
       "      <th>restecg</th>\n",
       "      <th>thalachh</th>\n",
       "      <th>exng</th>\n",
       "      <th>oldpeak</th>\n",
       "      <th>slp</th>\n",
       "      <th>caa</th>\n",
       "      <th>thall</th>\n",
       "      <th>output</th>\n",
       "    </tr>\n",
       "  </thead>\n",
       "  <tbody>\n",
       "    <tr>\n",
       "      <th>298</th>\n",
       "      <td>57</td>\n",
       "      <td>0</td>\n",
       "      <td>0</td>\n",
       "      <td>140</td>\n",
       "      <td>241</td>\n",
       "      <td>0</td>\n",
       "      <td>1</td>\n",
       "      <td>123</td>\n",
       "      <td>1</td>\n",
       "      <td>0.2</td>\n",
       "      <td>1</td>\n",
       "      <td>0</td>\n",
       "      <td>3</td>\n",
       "      <td>0</td>\n",
       "    </tr>\n",
       "    <tr>\n",
       "      <th>299</th>\n",
       "      <td>45</td>\n",
       "      <td>1</td>\n",
       "      <td>3</td>\n",
       "      <td>110</td>\n",
       "      <td>264</td>\n",
       "      <td>0</td>\n",
       "      <td>1</td>\n",
       "      <td>132</td>\n",
       "      <td>0</td>\n",
       "      <td>1.2</td>\n",
       "      <td>1</td>\n",
       "      <td>0</td>\n",
       "      <td>3</td>\n",
       "      <td>0</td>\n",
       "    </tr>\n",
       "    <tr>\n",
       "      <th>300</th>\n",
       "      <td>68</td>\n",
       "      <td>1</td>\n",
       "      <td>0</td>\n",
       "      <td>144</td>\n",
       "      <td>193</td>\n",
       "      <td>1</td>\n",
       "      <td>1</td>\n",
       "      <td>141</td>\n",
       "      <td>0</td>\n",
       "      <td>3.4</td>\n",
       "      <td>1</td>\n",
       "      <td>2</td>\n",
       "      <td>3</td>\n",
       "      <td>0</td>\n",
       "    </tr>\n",
       "    <tr>\n",
       "      <th>301</th>\n",
       "      <td>57</td>\n",
       "      <td>1</td>\n",
       "      <td>0</td>\n",
       "      <td>130</td>\n",
       "      <td>131</td>\n",
       "      <td>0</td>\n",
       "      <td>1</td>\n",
       "      <td>115</td>\n",
       "      <td>1</td>\n",
       "      <td>1.2</td>\n",
       "      <td>1</td>\n",
       "      <td>1</td>\n",
       "      <td>3</td>\n",
       "      <td>0</td>\n",
       "    </tr>\n",
       "    <tr>\n",
       "      <th>302</th>\n",
       "      <td>57</td>\n",
       "      <td>0</td>\n",
       "      <td>1</td>\n",
       "      <td>130</td>\n",
       "      <td>236</td>\n",
       "      <td>0</td>\n",
       "      <td>0</td>\n",
       "      <td>174</td>\n",
       "      <td>0</td>\n",
       "      <td>0.0</td>\n",
       "      <td>1</td>\n",
       "      <td>1</td>\n",
       "      <td>2</td>\n",
       "      <td>0</td>\n",
       "    </tr>\n",
       "  </tbody>\n",
       "</table>\n",
       "</div>"
      ],
      "text/plain": [
       "     age  sex  cp  trtbps  chol  fbs  restecg  thalachh  exng  oldpeak  slp   \n",
       "298   57    0   0     140   241    0        1       123     1      0.2    1  \\\n",
       "299   45    1   3     110   264    0        1       132     0      1.2    1   \n",
       "300   68    1   0     144   193    1        1       141     0      3.4    1   \n",
       "301   57    1   0     130   131    0        1       115     1      1.2    1   \n",
       "302   57    0   1     130   236    0        0       174     0      0.0    1   \n",
       "\n",
       "     caa  thall  output  \n",
       "298    0      3       0  \n",
       "299    0      3       0  \n",
       "300    2      3       0  \n",
       "301    1      3       0  \n",
       "302    1      2       0  "
      ]
     },
     "execution_count": 8,
     "metadata": {},
     "output_type": "execute_result"
    }
   ],
   "source": [
    "df.tail()"
   ]
  },
  {
   "cell_type": "code",
   "execution_count": 9,
   "id": "842ffd4c",
   "metadata": {
    "execution": {
     "iopub.execute_input": "2022-11-22T18:27:09.458082Z",
     "iopub.status.busy": "2022-11-22T18:27:09.457640Z",
     "iopub.status.idle": "2022-11-22T18:27:09.471945Z",
     "shell.execute_reply": "2022-11-22T18:27:09.471083Z"
    },
    "papermill": {
     "duration": 0.031838,
     "end_time": "2022-11-22T18:27:09.473994",
     "exception": false,
     "start_time": "2022-11-22T18:27:09.442156",
     "status": "completed"
    },
    "tags": []
   },
   "outputs": [
    {
     "data": {
      "text/html": [
       "<div>\n",
       "<style scoped>\n",
       "    .dataframe tbody tr th:only-of-type {\n",
       "        vertical-align: middle;\n",
       "    }\n",
       "\n",
       "    .dataframe tbody tr th {\n",
       "        vertical-align: top;\n",
       "    }\n",
       "\n",
       "    .dataframe thead th {\n",
       "        text-align: right;\n",
       "    }\n",
       "</style>\n",
       "<table border=\"1\" class=\"dataframe\">\n",
       "  <thead>\n",
       "    <tr style=\"text-align: right;\">\n",
       "      <th></th>\n",
       "      <th>age</th>\n",
       "      <th>sex</th>\n",
       "      <th>cp</th>\n",
       "      <th>trtbps</th>\n",
       "      <th>chol</th>\n",
       "      <th>fbs</th>\n",
       "      <th>restecg</th>\n",
       "      <th>thalachh</th>\n",
       "      <th>exng</th>\n",
       "      <th>oldpeak</th>\n",
       "      <th>slp</th>\n",
       "      <th>caa</th>\n",
       "      <th>thall</th>\n",
       "      <th>output</th>\n",
       "    </tr>\n",
       "  </thead>\n",
       "  <tbody>\n",
       "    <tr>\n",
       "      <th>0</th>\n",
       "      <td>63</td>\n",
       "      <td>1</td>\n",
       "      <td>3</td>\n",
       "      <td>145</td>\n",
       "      <td>233</td>\n",
       "      <td>1</td>\n",
       "      <td>0</td>\n",
       "      <td>150</td>\n",
       "      <td>0</td>\n",
       "      <td>2.3</td>\n",
       "      <td>0</td>\n",
       "      <td>0</td>\n",
       "      <td>1</td>\n",
       "      <td>1</td>\n",
       "    </tr>\n",
       "    <tr>\n",
       "      <th>1</th>\n",
       "      <td>37</td>\n",
       "      <td>1</td>\n",
       "      <td>2</td>\n",
       "      <td>130</td>\n",
       "      <td>250</td>\n",
       "      <td>0</td>\n",
       "      <td>1</td>\n",
       "      <td>187</td>\n",
       "      <td>0</td>\n",
       "      <td>3.5</td>\n",
       "      <td>0</td>\n",
       "      <td>0</td>\n",
       "      <td>2</td>\n",
       "      <td>1</td>\n",
       "    </tr>\n",
       "    <tr>\n",
       "      <th>2</th>\n",
       "      <td>41</td>\n",
       "      <td>0</td>\n",
       "      <td>1</td>\n",
       "      <td>130</td>\n",
       "      <td>204</td>\n",
       "      <td>0</td>\n",
       "      <td>0</td>\n",
       "      <td>172</td>\n",
       "      <td>0</td>\n",
       "      <td>1.4</td>\n",
       "      <td>2</td>\n",
       "      <td>0</td>\n",
       "      <td>2</td>\n",
       "      <td>1</td>\n",
       "    </tr>\n",
       "    <tr>\n",
       "      <th>3</th>\n",
       "      <td>56</td>\n",
       "      <td>1</td>\n",
       "      <td>1</td>\n",
       "      <td>120</td>\n",
       "      <td>236</td>\n",
       "      <td>0</td>\n",
       "      <td>1</td>\n",
       "      <td>178</td>\n",
       "      <td>0</td>\n",
       "      <td>0.8</td>\n",
       "      <td>2</td>\n",
       "      <td>0</td>\n",
       "      <td>2</td>\n",
       "      <td>1</td>\n",
       "    </tr>\n",
       "    <tr>\n",
       "      <th>4</th>\n",
       "      <td>57</td>\n",
       "      <td>0</td>\n",
       "      <td>0</td>\n",
       "      <td>120</td>\n",
       "      <td>354</td>\n",
       "      <td>0</td>\n",
       "      <td>1</td>\n",
       "      <td>163</td>\n",
       "      <td>1</td>\n",
       "      <td>0.6</td>\n",
       "      <td>2</td>\n",
       "      <td>0</td>\n",
       "      <td>2</td>\n",
       "      <td>1</td>\n",
       "    </tr>\n",
       "  </tbody>\n",
       "</table>\n",
       "</div>"
      ],
      "text/plain": [
       "   age  sex  cp  trtbps  chol  fbs  restecg  thalachh  exng  oldpeak  slp   \n",
       "0   63    1   3     145   233    1        0       150     0      2.3    0  \\\n",
       "1   37    1   2     130   250    0        1       187     0      3.5    0   \n",
       "2   41    0   1     130   204    0        0       172     0      1.4    2   \n",
       "3   56    1   1     120   236    0        1       178     0      0.8    2   \n",
       "4   57    0   0     120   354    0        1       163     1      0.6    2   \n",
       "\n",
       "   caa  thall  output  \n",
       "0    0      1       1  \n",
       "1    0      2       1  \n",
       "2    0      2       1  \n",
       "3    0      2       1  \n",
       "4    0      2       1  "
      ]
     },
     "execution_count": 9,
     "metadata": {},
     "output_type": "execute_result"
    }
   ],
   "source": [
    "df.head()"
   ]
  },
  {
   "cell_type": "code",
   "execution_count": 10,
   "id": "7ed53f27",
   "metadata": {
    "execution": {
     "iopub.execute_input": "2022-11-22T18:27:09.502797Z",
     "iopub.status.busy": "2022-11-22T18:27:09.502105Z",
     "iopub.status.idle": "2022-11-22T18:27:09.508045Z",
     "shell.execute_reply": "2022-11-22T18:27:09.507057Z"
    },
    "papermill": {
     "duration": 0.022729,
     "end_time": "2022-11-22T18:27:09.510152",
     "exception": false,
     "start_time": "2022-11-22T18:27:09.487423",
     "status": "completed"
    },
    "tags": []
   },
   "outputs": [
    {
     "data": {
      "text/plain": [
       "(3585, 1)"
      ]
     },
     "execution_count": 10,
     "metadata": {},
     "output_type": "execute_result"
    }
   ],
   "source": [
    "df1.shape"
   ]
  },
  {
   "cell_type": "markdown",
   "id": "627a70cf",
   "metadata": {
    "papermill": {
     "duration": 0.013026,
     "end_time": "2022-11-22T18:27:09.536565",
     "exception": false,
     "start_time": "2022-11-22T18:27:09.523539",
     "status": "completed"
    },
    "tags": []
   },
   "source": [
    "Checking the correlation between the features using mutual information"
   ]
  },
  {
   "cell_type": "markdown",
   "id": "d33f3581",
   "metadata": {
    "papermill": {
     "duration": 0.012839,
     "end_time": "2022-11-22T18:27:09.562859",
     "exception": false,
     "start_time": "2022-11-22T18:27:09.550020",
     "status": "completed"
    },
    "tags": []
   },
   "source": [
    "Output is our target variable"
   ]
  },
  {
   "cell_type": "code",
   "execution_count": 11,
   "id": "ec6c04cc",
   "metadata": {
    "execution": {
     "iopub.execute_input": "2022-11-22T18:27:09.592644Z",
     "iopub.status.busy": "2022-11-22T18:27:09.591983Z",
     "iopub.status.idle": "2022-11-22T18:27:09.601194Z",
     "shell.execute_reply": "2022-11-22T18:27:09.599700Z"
    },
    "papermill": {
     "duration": 0.027328,
     "end_time": "2022-11-22T18:27:09.604054",
     "exception": false,
     "start_time": "2022-11-22T18:27:09.576726",
     "status": "completed"
    },
    "tags": []
   },
   "outputs": [],
   "source": [
    "X= df.drop('output',axis=1)\n",
    "y= df.output"
   ]
  },
  {
   "cell_type": "markdown",
   "id": "da84b244",
   "metadata": {
    "papermill": {
     "duration": 0.013715,
     "end_time": "2022-11-22T18:27:09.631362",
     "exception": false,
     "start_time": "2022-11-22T18:27:09.617647",
     "status": "completed"
    },
    "tags": []
   },
   "source": [
    "# Mutual Information"
   ]
  },
  {
   "cell_type": "code",
   "execution_count": 12,
   "id": "492cd521",
   "metadata": {
    "execution": {
     "iopub.execute_input": "2022-11-22T18:27:09.660464Z",
     "iopub.status.busy": "2022-11-22T18:27:09.660020Z",
     "iopub.status.idle": "2022-11-22T18:27:10.924671Z",
     "shell.execute_reply": "2022-11-22T18:27:10.923425Z"
    },
    "papermill": {
     "duration": 1.282352,
     "end_time": "2022-11-22T18:27:10.927435",
     "exception": false,
     "start_time": "2022-11-22T18:27:09.645083",
     "status": "completed"
    },
    "tags": []
   },
   "outputs": [
    {
     "data": {
      "text/plain": [
       "cp          0.175361\n",
       "caa         0.138889\n",
       "thall       0.121742\n",
       "oldpeak     0.120631\n",
       "chol        0.074439\n",
       "exng        0.068918\n",
       "thalachh    0.065146\n",
       "slp         0.064006\n",
       "sex         0.058314\n",
       "restecg     0.029927\n",
       "age         0.000000\n",
       "trtbps      0.000000\n",
       "fbs         0.000000\n",
       "Name: MI Scores, dtype: float64"
      ]
     },
     "execution_count": 12,
     "metadata": {},
     "output_type": "execute_result"
    }
   ],
   "source": [
    "#using mutual_info_classif for classification problem MI\n",
    "from sklearn.feature_selection import mutual_info_classif\n",
    "\n",
    "mi_scores = mutual_info_classif(X, y)\n",
    "mi_scores = pd.Series(mi_scores, name=\"MI Scores\", index=X.columns)\n",
    "mi_scores = mi_scores.sort_values(ascending=False)\n",
    "\n",
    "mi_scores # show a few features with their MI scores"
   ]
  },
  {
   "cell_type": "markdown",
   "id": "a653be22",
   "metadata": {
    "papermill": {
     "duration": 0.013248,
     "end_time": "2022-11-22T18:27:10.955766",
     "exception": false,
     "start_time": "2022-11-22T18:27:10.942518",
     "status": "completed"
    },
    "tags": []
   },
   "source": [
    "cp, thall, exng, slp and caa are the top 5 features which are dependant with output feature.\n",
    "\n",
    "Age, trtbps and restecg does not have any dependancy.\n",
    "\n",
    "We'll train and test with top 6 features and test the accuracy and then with all the features and test the accuracy and auc score"
   ]
  },
  {
   "cell_type": "markdown",
   "id": "117ca518",
   "metadata": {
    "papermill": {
     "duration": 0.013383,
     "end_time": "2022-11-22T18:27:10.982473",
     "exception": false,
     "start_time": "2022-11-22T18:27:10.969090",
     "status": "completed"
    },
    "tags": []
   },
   "source": [
    "# Test train split"
   ]
  },
  {
   "cell_type": "code",
   "execution_count": 13,
   "id": "115a2687",
   "metadata": {
    "execution": {
     "iopub.execute_input": "2022-11-22T18:27:11.012269Z",
     "iopub.status.busy": "2022-11-22T18:27:11.011847Z",
     "iopub.status.idle": "2022-11-22T18:27:11.018322Z",
     "shell.execute_reply": "2022-11-22T18:27:11.016940Z"
    },
    "papermill": {
     "duration": 0.023681,
     "end_time": "2022-11-22T18:27:11.020590",
     "exception": false,
     "start_time": "2022-11-22T18:27:10.996909",
     "status": "completed"
    },
    "tags": []
   },
   "outputs": [],
   "source": [
    "from sklearn.model_selection import train_test_split\n",
    "\n",
    "# dataset split\n",
    "# creating a function for dataset split\n",
    "def dataset(X,y):\n",
    "    train_full_X, val_X, train_full_y, val_y = train_test_split(X, y,test_size=0.2,random_state = 0)\n",
    "\n",
    "# Use the same function above for the validation set\n",
    "    train_X, test_X, train_y, test_y = train_test_split(train_full_X, train_full_y, test_size=0.25,random_state = 0)\n",
    "    return (train_X, val_X, train_y, val_y)"
   ]
  },
  {
   "cell_type": "markdown",
   "id": "1a76ad50",
   "metadata": {
    "papermill": {
     "duration": 0.013223,
     "end_time": "2022-11-22T18:27:11.047190",
     "exception": false,
     "start_time": "2022-11-22T18:27:11.033967",
     "status": "completed"
    },
    "tags": []
   },
   "source": [
    "# Minmax scaling "
   ]
  },
  {
   "cell_type": "code",
   "execution_count": 14,
   "id": "a984134c",
   "metadata": {
    "execution": {
     "iopub.execute_input": "2022-11-22T18:27:11.075301Z",
     "iopub.status.busy": "2022-11-22T18:27:11.074931Z",
     "iopub.status.idle": "2022-11-22T18:27:11.080607Z",
     "shell.execute_reply": "2022-11-22T18:27:11.079269Z"
    },
    "papermill": {
     "duration": 0.022547,
     "end_time": "2022-11-22T18:27:11.082942",
     "exception": false,
     "start_time": "2022-11-22T18:27:11.060395",
     "status": "completed"
    },
    "tags": []
   },
   "outputs": [],
   "source": [
    "from sklearn.preprocessing import MinMaxScaler\n",
    "\n",
    "def scale(X):\n",
    "    scaler = MinMaxScaler()\n",
    "    scaler.fit(X)\n",
    "    return X"
   ]
  },
  {
   "cell_type": "markdown",
   "id": "f56fbf33",
   "metadata": {
    "papermill": {
     "duration": 0.013007,
     "end_time": "2022-11-22T18:27:11.109400",
     "exception": false,
     "start_time": "2022-11-22T18:27:11.096393",
     "status": "completed"
    },
    "tags": []
   },
   "source": [
    "Lets start with **decision tree**\n",
    "\n",
    "# Decison Tree\n",
    "\n",
    "1. With top 7 features"
   ]
  },
  {
   "cell_type": "code",
   "execution_count": 15,
   "id": "aa0ee594",
   "metadata": {
    "execution": {
     "iopub.execute_input": "2022-11-22T18:27:11.137853Z",
     "iopub.status.busy": "2022-11-22T18:27:11.137173Z",
     "iopub.status.idle": "2022-11-22T18:27:11.182551Z",
     "shell.execute_reply": "2022-11-22T18:27:11.180754Z"
    },
    "papermill": {
     "duration": 0.062558,
     "end_time": "2022-11-22T18:27:11.185173",
     "exception": false,
     "start_time": "2022-11-22T18:27:11.122615",
     "status": "completed"
    },
    "tags": []
   },
   "outputs": [
    {
     "name": "stdout",
     "output_type": "stream",
     "text": [
      "ACCURACY:  70.49180327868852\n",
      "AUC score:  0.7009803921568628\n"
     ]
    }
   ],
   "source": [
    "from sklearn.tree import DecisionTreeClassifier\n",
    "from sklearn.metrics import roc_auc_score\n",
    "from sklearn.metrics import accuracy_score\n",
    "\n",
    "#assigning the features under a list\n",
    "\n",
    "features=['thall','caa','cp','oldpeak','exng','chol','thalachh']\n",
    "X= df[features]\n",
    "y= df.output\n",
    "\n",
    "X= scale(X)\n",
    "X_train,X_val,y_train,y_val= dataset(X,y)\n",
    "\n",
    "tree_model= DecisionTreeClassifier(random_state=1)\n",
    "tree_model.fit(X_train, y_train)\n",
    "preds= tree_model.predict(X_val)\n",
    "\n",
    "print('ACCURACY: ',accuracy_score(y_val,preds)*100)\n",
    "print('AUC score: ',roc_auc_score(y_val,preds))\n"
   ]
  },
  {
   "cell_type": "markdown",
   "id": "2c89a971",
   "metadata": {
    "papermill": {
     "duration": 0.013987,
     "end_time": "2022-11-22T18:27:11.213332",
     "exception": false,
     "start_time": "2022-11-22T18:27:11.199345",
     "status": "completed"
    },
    "tags": []
   },
   "source": [
    "2. Let's try with all features"
   ]
  },
  {
   "cell_type": "code",
   "execution_count": 16,
   "id": "428a06eb",
   "metadata": {
    "execution": {
     "iopub.execute_input": "2022-11-22T18:27:11.243230Z",
     "iopub.status.busy": "2022-11-22T18:27:11.242733Z",
     "iopub.status.idle": "2022-11-22T18:27:11.264723Z",
     "shell.execute_reply": "2022-11-22T18:27:11.262704Z"
    },
    "papermill": {
     "duration": 0.041631,
     "end_time": "2022-11-22T18:27:11.269035",
     "exception": false,
     "start_time": "2022-11-22T18:27:11.227404",
     "status": "completed"
    },
    "tags": []
   },
   "outputs": [
    {
     "name": "stdout",
     "output_type": "stream",
     "text": [
      "ACCURACY:  77.04918032786885\n",
      "AUC score:  0.767429193899782\n"
     ]
    }
   ],
   "source": [
    "X= df.drop('output',axis=1)\n",
    "y= df.output\n",
    "\n",
    "X= scale(X)\n",
    "X_train,X_val,y_train,y_val= dataset(X,y)\n",
    "\n",
    "tree_model= DecisionTreeClassifier(random_state=1)\n",
    "tree_model.fit(X_train, y_train)\n",
    "preds= tree_model.predict(X_val)\n",
    "\n",
    "print('ACCURACY: ',accuracy_score(y_val,preds)*100)\n",
    "print('AUC score: ',roc_auc_score(y_val,preds))"
   ]
  },
  {
   "cell_type": "markdown",
   "id": "c0340b43",
   "metadata": {
    "papermill": {
     "duration": 0.013211,
     "end_time": "2022-11-22T18:27:11.296291",
     "exception": false,
     "start_time": "2022-11-22T18:27:11.283080",
     "status": "completed"
    },
    "tags": []
   },
   "source": [
    "The accuracy and AUC has improved when we train with all the features in decision tree model. \n",
    "\n",
    "Next we'll make use of the parameters in decision tree model\n",
    "\n",
    "3. Decision tree with parameter tuning with all features included"
   ]
  },
  {
   "cell_type": "code",
   "execution_count": 17,
   "id": "fd0142d0",
   "metadata": {
    "execution": {
     "iopub.execute_input": "2022-11-22T18:27:11.325737Z",
     "iopub.status.busy": "2022-11-22T18:27:11.325343Z",
     "iopub.status.idle": "2022-11-22T18:27:11.705650Z",
     "shell.execute_reply": "2022-11-22T18:27:11.704604Z"
    },
    "papermill": {
     "duration": 0.398011,
     "end_time": "2022-11-22T18:27:11.708517",
     "exception": false,
     "start_time": "2022-11-22T18:27:11.310506",
     "status": "completed"
    },
    "tags": []
   },
   "outputs": [],
   "source": [
    "X= df.drop('output',axis=1)\n",
    "y= df.output\n",
    "\n",
    "depth = [1, 2, 3, 4, 5, 6, 10, 15, 20, None]\n",
    "leaf=[1, 5, 10, 15, 20, 500, 100, 200]\n",
    "scores=[]\n",
    "for d in depth:\n",
    "      for l in leaf:\n",
    "        dmodel = DecisionTreeClassifier(random_state=0,max_depth=d,min_samples_leaf=l)\n",
    "        dmodel.fit(X_train, y_train)\n",
    "\n",
    "        pred1 = dmodel.predict(X_val)\n",
    "        acc= accuracy_score(y_val,pred1)*100\n",
    "        auc = roc_auc_score(y_val,pred1)\n",
    "        #print('%4s %s -> auc %.3f accuracy  %.2f' % (d, l, auc, acc))\n",
    "\n",
    "        scores.append((d,l,auc))"
   ]
  },
  {
   "cell_type": "code",
   "execution_count": 18,
   "id": "4a4fba81",
   "metadata": {
    "execution": {
     "iopub.execute_input": "2022-11-22T18:27:11.738440Z",
     "iopub.status.busy": "2022-11-22T18:27:11.738034Z",
     "iopub.status.idle": "2022-11-22T18:27:11.781462Z",
     "shell.execute_reply": "2022-11-22T18:27:11.780250Z"
    },
    "papermill": {
     "duration": 0.061361,
     "end_time": "2022-11-22T18:27:11.784037",
     "exception": false,
     "start_time": "2022-11-22T18:27:11.722676",
     "status": "completed"
    },
    "tags": []
   },
   "outputs": [
    {
     "data": {
      "text/html": [
       "<div>\n",
       "<style scoped>\n",
       "    .dataframe tbody tr th:only-of-type {\n",
       "        vertical-align: middle;\n",
       "    }\n",
       "\n",
       "    .dataframe tbody tr th {\n",
       "        vertical-align: top;\n",
       "    }\n",
       "\n",
       "    .dataframe thead tr th {\n",
       "        text-align: left;\n",
       "    }\n",
       "\n",
       "    .dataframe thead tr:last-of-type th {\n",
       "        text-align: right;\n",
       "    }\n",
       "</style>\n",
       "<table border=\"1\" class=\"dataframe\">\n",
       "  <thead>\n",
       "    <tr>\n",
       "      <th></th>\n",
       "      <th colspan=\"10\" halign=\"left\">auc</th>\n",
       "    </tr>\n",
       "    <tr>\n",
       "      <th>max_depth</th>\n",
       "      <th>NaN</th>\n",
       "      <th>1.0</th>\n",
       "      <th>2.0</th>\n",
       "      <th>3.0</th>\n",
       "      <th>4.0</th>\n",
       "      <th>5.0</th>\n",
       "      <th>6.0</th>\n",
       "      <th>10.0</th>\n",
       "      <th>15.0</th>\n",
       "      <th>20.0</th>\n",
       "    </tr>\n",
       "    <tr>\n",
       "      <th>min_samples_leaf</th>\n",
       "      <th></th>\n",
       "      <th></th>\n",
       "      <th></th>\n",
       "      <th></th>\n",
       "      <th></th>\n",
       "      <th></th>\n",
       "      <th></th>\n",
       "      <th></th>\n",
       "      <th></th>\n",
       "      <th></th>\n",
       "    </tr>\n",
       "  </thead>\n",
       "  <tbody>\n",
       "    <tr>\n",
       "      <th>1</th>\n",
       "      <td>0.749</td>\n",
       "      <td>0.686</td>\n",
       "      <td>0.756</td>\n",
       "      <td>0.738</td>\n",
       "      <td>0.778</td>\n",
       "      <td>0.749</td>\n",
       "      <td>0.727</td>\n",
       "      <td>0.749</td>\n",
       "      <td>0.749</td>\n",
       "      <td>0.749</td>\n",
       "    </tr>\n",
       "    <tr>\n",
       "      <th>5</th>\n",
       "      <td>0.808</td>\n",
       "      <td>0.686</td>\n",
       "      <td>0.756</td>\n",
       "      <td>0.738</td>\n",
       "      <td>0.808</td>\n",
       "      <td>0.808</td>\n",
       "      <td>0.808</td>\n",
       "      <td>0.808</td>\n",
       "      <td>0.808</td>\n",
       "      <td>0.808</td>\n",
       "    </tr>\n",
       "    <tr>\n",
       "      <th>10</th>\n",
       "      <td>0.738</td>\n",
       "      <td>0.686</td>\n",
       "      <td>0.756</td>\n",
       "      <td>0.738</td>\n",
       "      <td>0.738</td>\n",
       "      <td>0.738</td>\n",
       "      <td>0.738</td>\n",
       "      <td>0.738</td>\n",
       "      <td>0.738</td>\n",
       "      <td>0.738</td>\n",
       "    </tr>\n",
       "    <tr>\n",
       "      <th>15</th>\n",
       "      <td>0.756</td>\n",
       "      <td>0.686</td>\n",
       "      <td>0.756</td>\n",
       "      <td>0.756</td>\n",
       "      <td>0.756</td>\n",
       "      <td>0.756</td>\n",
       "      <td>0.756</td>\n",
       "      <td>0.756</td>\n",
       "      <td>0.756</td>\n",
       "      <td>0.756</td>\n",
       "    </tr>\n",
       "    <tr>\n",
       "      <th>20</th>\n",
       "      <td>0.756</td>\n",
       "      <td>0.686</td>\n",
       "      <td>0.756</td>\n",
       "      <td>0.756</td>\n",
       "      <td>0.756</td>\n",
       "      <td>0.756</td>\n",
       "      <td>0.756</td>\n",
       "      <td>0.756</td>\n",
       "      <td>0.756</td>\n",
       "      <td>0.756</td>\n",
       "    </tr>\n",
       "    <tr>\n",
       "      <th>100</th>\n",
       "      <td>0.500</td>\n",
       "      <td>0.500</td>\n",
       "      <td>0.500</td>\n",
       "      <td>0.500</td>\n",
       "      <td>0.500</td>\n",
       "      <td>0.500</td>\n",
       "      <td>0.500</td>\n",
       "      <td>0.500</td>\n",
       "      <td>0.500</td>\n",
       "      <td>0.500</td>\n",
       "    </tr>\n",
       "    <tr>\n",
       "      <th>200</th>\n",
       "      <td>0.500</td>\n",
       "      <td>0.500</td>\n",
       "      <td>0.500</td>\n",
       "      <td>0.500</td>\n",
       "      <td>0.500</td>\n",
       "      <td>0.500</td>\n",
       "      <td>0.500</td>\n",
       "      <td>0.500</td>\n",
       "      <td>0.500</td>\n",
       "      <td>0.500</td>\n",
       "    </tr>\n",
       "    <tr>\n",
       "      <th>500</th>\n",
       "      <td>0.500</td>\n",
       "      <td>0.500</td>\n",
       "      <td>0.500</td>\n",
       "      <td>0.500</td>\n",
       "      <td>0.500</td>\n",
       "      <td>0.500</td>\n",
       "      <td>0.500</td>\n",
       "      <td>0.500</td>\n",
       "      <td>0.500</td>\n",
       "      <td>0.500</td>\n",
       "    </tr>\n",
       "  </tbody>\n",
       "</table>\n",
       "</div>"
      ],
      "text/plain": [
       "                    auc                                                    \n",
       "max_depth           NaN   1.0    2.0    3.0    4.0    5.0    6.0    10.0   \n",
       "min_samples_leaf                                                           \n",
       "1                 0.749  0.686  0.756  0.738  0.778  0.749  0.727  0.749  \\\n",
       "5                 0.808  0.686  0.756  0.738  0.808  0.808  0.808  0.808   \n",
       "10                0.738  0.686  0.756  0.738  0.738  0.738  0.738  0.738   \n",
       "15                0.756  0.686  0.756  0.756  0.756  0.756  0.756  0.756   \n",
       "20                0.756  0.686  0.756  0.756  0.756  0.756  0.756  0.756   \n",
       "100               0.500  0.500  0.500  0.500  0.500  0.500  0.500  0.500   \n",
       "200               0.500  0.500  0.500  0.500  0.500  0.500  0.500  0.500   \n",
       "500               0.500  0.500  0.500  0.500  0.500  0.500  0.500  0.500   \n",
       "\n",
       "                                \n",
       "max_depth          15.0   20.0  \n",
       "min_samples_leaf                \n",
       "1                 0.749  0.749  \n",
       "5                 0.808  0.808  \n",
       "10                0.738  0.738  \n",
       "15                0.756  0.756  \n",
       "20                0.756  0.756  \n",
       "100               0.500  0.500  \n",
       "200               0.500  0.500  \n",
       "500               0.500  0.500  "
      ]
     },
     "execution_count": 18,
     "metadata": {},
     "output_type": "execute_result"
    }
   ],
   "source": [
    "columns = ['max_depth', 'min_samples_leaf', 'auc']\n",
    "df_scores = pd.DataFrame(scores, columns=columns)\n",
    "\n",
    "pivot2 = df_scores.pivot(index='min_samples_leaf', columns=['max_depth'], values=['auc'])\n",
    "pivot2.round(3)"
   ]
  },
  {
   "cell_type": "code",
   "execution_count": 19,
   "id": "52ed1811",
   "metadata": {
    "execution": {
     "iopub.execute_input": "2022-11-22T18:27:11.814404Z",
     "iopub.status.busy": "2022-11-22T18:27:11.814008Z",
     "iopub.status.idle": "2022-11-22T18:27:12.715106Z",
     "shell.execute_reply": "2022-11-22T18:27:12.713789Z"
    },
    "papermill": {
     "duration": 0.919355,
     "end_time": "2022-11-22T18:27:12.718144",
     "exception": false,
     "start_time": "2022-11-22T18:27:11.798789",
     "status": "completed"
    },
    "tags": []
   },
   "outputs": [
    {
     "data": {
      "text/plain": [
       "<Axes: xlabel='None-max_depth', ylabel='min_samples_leaf'>"
      ]
     },
     "execution_count": 19,
     "metadata": {},
     "output_type": "execute_result"
    },
    {
     "data": {
      "image/png": "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",
      "text/plain": [
       "<Figure size 640x480 with 2 Axes>"
      ]
     },
     "metadata": {},
     "output_type": "display_data"
    }
   ],
   "source": [
    "import seaborn as sns\n",
    "sns.heatmap(pivot2, annot=True, fmt=\".3f\")"
   ]
  },
  {
   "cell_type": "markdown",
   "id": "98ab951c",
   "metadata": {
    "papermill": {
     "duration": 0.014639,
     "end_time": "2022-11-22T18:27:12.747913",
     "exception": false,
     "start_time": "2022-11-22T18:27:12.733274",
     "status": "completed"
    },
    "tags": []
   },
   "source": [
    "We are getting high auc score when min_samples_leaf=5 and max_depth to be between 4-20 since we have same auc score\n",
    "Finalizing parameters\n"
   ]
  },
  {
   "cell_type": "code",
   "execution_count": 20,
   "id": "e1b9ed8e",
   "metadata": {
    "execution": {
     "iopub.execute_input": "2022-11-22T18:27:12.779168Z",
     "iopub.status.busy": "2022-11-22T18:27:12.777964Z",
     "iopub.status.idle": "2022-11-22T18:27:12.797292Z",
     "shell.execute_reply": "2022-11-22T18:27:12.795832Z"
    },
    "papermill": {
     "duration": 0.037565,
     "end_time": "2022-11-22T18:27:12.799777",
     "exception": false,
     "start_time": "2022-11-22T18:27:12.762212",
     "status": "completed"
    },
    "tags": []
   },
   "outputs": [
    {
     "name": "stdout",
     "output_type": "stream",
     "text": [
      "ACCURACY:  80.32786885245902\n",
      "AUC score:  0.8082788671023965\n"
     ]
    }
   ],
   "source": [
    "#finalized decision tree model\n",
    "X= df.drop('output',axis=1)\n",
    "y= df.output\n",
    "\n",
    "X= scale(X)\n",
    "X_train,X_val,y_train,y_val= dataset(X,y)\n",
    "\n",
    "tree_model= DecisionTreeClassifier(random_state=1,max_depth=5,min_samples_leaf=5)\n",
    "tree_model.fit(X_train, y_train)\n",
    "preds= tree_model.predict(X_val)\n",
    "\n",
    "print('ACCURACY: ',accuracy_score(y_val,preds)*100)\n",
    "print('AUC score: ',roc_auc_score(y_val,preds))"
   ]
  },
  {
   "cell_type": "markdown",
   "id": "8df9c15f",
   "metadata": {
    "papermill": {
     "duration": 0.014265,
     "end_time": "2022-11-22T18:27:12.828630",
     "exception": false,
     "start_time": "2022-11-22T18:27:12.814365",
     "status": "completed"
    },
    "tags": []
   },
   "source": [
    "With parameter tuning, results are getting worse, so we'll go with default one"
   ]
  },
  {
   "cell_type": "markdown",
   "id": "cbaf956d",
   "metadata": {
    "papermill": {
     "duration": 0.01413,
     "end_time": "2022-11-22T18:27:12.857179",
     "exception": false,
     "start_time": "2022-11-22T18:27:12.843049",
     "status": "completed"
    },
    "tags": []
   },
   "source": [
    "# Random forest\n",
    "\n",
    "4. **Random forest** classifier with top 7 features"
   ]
  },
  {
   "cell_type": "code",
   "execution_count": 21,
   "id": "5760a60d",
   "metadata": {
    "execution": {
     "iopub.execute_input": "2022-11-22T18:27:12.888754Z",
     "iopub.status.busy": "2022-11-22T18:27:12.887669Z",
     "iopub.status.idle": "2022-11-22T18:27:13.114806Z",
     "shell.execute_reply": "2022-11-22T18:27:13.113260Z"
    },
    "papermill": {
     "duration": 0.246271,
     "end_time": "2022-11-22T18:27:13.118018",
     "exception": false,
     "start_time": "2022-11-22T18:27:12.871747",
     "status": "completed"
    },
    "tags": []
   },
   "outputs": [
    {
     "name": "stdout",
     "output_type": "stream",
     "text": [
      "ACCURACY:  85.24590163934425\n",
      "AUC score:  0.8523965141612201\n"
     ]
    }
   ],
   "source": [
    "from sklearn.ensemble import RandomForestClassifier\n",
    "\n",
    "X= df[features]\n",
    "y= df.output\n",
    "\n",
    "X= scale(X)\n",
    "X_train,X_val,y_train,y_val= dataset(X,y)\n",
    "\n",
    "forest_model= RandomForestClassifier(random_state=1)\n",
    "forest_model.fit(X_train, y_train)\n",
    "preds= forest_model.predict(X_val)\n",
    "\n",
    "print('ACCURACY: ',accuracy_score(y_val,preds)*100)\n",
    "print('AUC score: ',roc_auc_score(y_val,preds))"
   ]
  },
  {
   "cell_type": "markdown",
   "id": "54c7dd45",
   "metadata": {
    "papermill": {
     "duration": 0.01503,
     "end_time": "2022-11-22T18:27:13.148838",
     "exception": false,
     "start_time": "2022-11-22T18:27:13.133808",
     "status": "completed"
    },
    "tags": []
   },
   "source": [
    "5. **Random forest** with all features"
   ]
  },
  {
   "cell_type": "code",
   "execution_count": 22,
   "id": "41bc425e",
   "metadata": {
    "execution": {
     "iopub.execute_input": "2022-11-22T18:27:13.181312Z",
     "iopub.status.busy": "2022-11-22T18:27:13.180915Z",
     "iopub.status.idle": "2022-11-22T18:27:13.360570Z",
     "shell.execute_reply": "2022-11-22T18:27:13.359266Z"
    },
    "papermill": {
     "duration": 0.198813,
     "end_time": "2022-11-22T18:27:13.363237",
     "exception": false,
     "start_time": "2022-11-22T18:27:13.164424",
     "status": "completed"
    },
    "tags": []
   },
   "outputs": [
    {
     "name": "stdout",
     "output_type": "stream",
     "text": [
      "ACCURACY:  83.60655737704919\n",
      "AUC score:  0.8376906318082789\n"
     ]
    }
   ],
   "source": [
    "X= df.drop('output',axis=1)\n",
    "y= df.output\n",
    "\n",
    "X= scale(X)\n",
    "X_train,X_val,y_train,y_val= dataset(X,y)\n",
    "\n",
    "forest_model= RandomForestClassifier(random_state=1)\n",
    "forest_model.fit(X_train, y_train)\n",
    "preds= forest_model.predict(X_val)\n",
    "\n",
    "print('ACCURACY: ',accuracy_score(y_val,preds)*100)\n",
    "print('AUC score: ',roc_auc_score(y_val,preds))"
   ]
  },
  {
   "cell_type": "markdown",
   "id": "ff014da4",
   "metadata": {
    "papermill": {
     "duration": 0.014405,
     "end_time": "2022-11-22T18:27:13.392697",
     "exception": false,
     "start_time": "2022-11-22T18:27:13.378292",
     "status": "completed"
    },
    "tags": []
   },
   "source": [
    "In Random forest, model trained with top 7 features gives higher accuracy and auc score\n",
    "\n",
    "6. Random forest with parameter tuning with top 7 features included "
   ]
  },
  {
   "cell_type": "code",
   "execution_count": 23,
   "id": "f9262e51",
   "metadata": {
    "execution": {
     "iopub.execute_input": "2022-11-22T18:27:13.424340Z",
     "iopub.status.busy": "2022-11-22T18:27:13.423587Z",
     "iopub.status.idle": "2022-11-22T18:27:26.916963Z",
     "shell.execute_reply": "2022-11-22T18:27:26.915380Z"
    },
    "papermill": {
     "duration": 13.512528,
     "end_time": "2022-11-22T18:27:26.919932",
     "exception": false,
     "start_time": "2022-11-22T18:27:13.407404",
     "status": "completed"
    },
    "tags": []
   },
   "outputs": [],
   "source": [
    "X= df[features]\n",
    "y= df.output\n",
    "\n",
    "X= scale(X)\n",
    "X_train,X_val,y_train,y_val= dataset(X,y)\n",
    "\n",
    "#determing depth\n",
    "depth=[5,10,15,20]\n",
    "score=[]\n",
    "score1=[]\n",
    "for d in depth:\n",
    "       for n in range(10,201,10):\n",
    "\n",
    "\n",
    "        rmodel = RandomForestClassifier(n_estimators=n,random_state=1,max_depth=d)\n",
    "        rmodel.fit(X_train, y_train)\n",
    "\n",
    "        pred = rmodel.predict(X_val)\n",
    "        acc= accuracy_score(y_val,pred)*100\n",
    "        auc = roc_auc_score(y_val,pred)\n",
    "\n",
    "        #print('%4s %s  %.2f %.3f'%(n,d,acc,auc))\n",
    "        score.append((d,n,auc))\n",
    "        \n",
    "#creating dataframe\n",
    "columns = ['max_depth', 'n_estimators', 'auc']\n",
    "df_scores = pd.DataFrame(score, columns=columns)\n",
    "        "
   ]
  },
  {
   "cell_type": "code",
   "execution_count": 24,
   "id": "fd9a4334",
   "metadata": {
    "execution": {
     "iopub.execute_input": "2022-11-22T18:27:26.951658Z",
     "iopub.status.busy": "2022-11-22T18:27:26.951262Z",
     "iopub.status.idle": "2022-11-22T18:27:27.210478Z",
     "shell.execute_reply": "2022-11-22T18:27:27.209178Z"
    },
    "papermill": {
     "duration": 0.280158,
     "end_time": "2022-11-22T18:27:27.215058",
     "exception": false,
     "start_time": "2022-11-22T18:27:26.934900",
     "status": "completed"
    },
    "tags": []
   },
   "outputs": [
    {
     "data": {
      "text/plain": [
       "<matplotlib.legend.Legend at 0x235ad11d210>"
      ]
     },
     "execution_count": 24,
     "metadata": {},
     "output_type": "execute_result"
    },
    {
     "data": {
      "image/png": "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",
      "text/plain": [
       "<Figure size 640x480 with 1 Axes>"
      ]
     },
     "metadata": {},
     "output_type": "display_data"
    }
   ],
   "source": [
    "import matplotlib.pyplot as plt\n",
    "for d in depth:\n",
    "    subset = df_scores[df_scores.max_depth == d]\n",
    "    \n",
    "    plt.plot(subset.n_estimators, subset.auc,label='max_depth=%d' % d)\n",
    "\n",
    "plt.legend()"
   ]
  },
  {
   "cell_type": "markdown",
   "id": "c5f201fe",
   "metadata": {
    "papermill": {
     "duration": 0.015125,
     "end_time": "2022-11-22T18:27:27.246598",
     "exception": false,
     "start_time": "2022-11-22T18:27:27.231473",
     "status": "completed"
    },
    "tags": []
   },
   "source": [
    "choosing max depth= 20 and we get highest auc score with that depth"
   ]
  },
  {
   "cell_type": "code",
   "execution_count": 25,
   "id": "41ae480c",
   "metadata": {
    "execution": {
     "iopub.execute_input": "2022-11-22T18:27:27.280024Z",
     "iopub.status.busy": "2022-11-22T18:27:27.278783Z",
     "iopub.status.idle": "2022-11-22T18:27:46.682113Z",
     "shell.execute_reply": "2022-11-22T18:27:46.680831Z"
    },
    "papermill": {
     "duration": 19.4231,
     "end_time": "2022-11-22T18:27:46.685015",
     "exception": false,
     "start_time": "2022-11-22T18:27:27.261915",
     "status": "completed"
    },
    "tags": []
   },
   "outputs": [],
   "source": [
    "depth= 20\n",
    "#getting samples\n",
    "score1=[]\n",
    "\n",
    "samples=[1,5,10,25,30,50]\n",
    "for s in samples:\n",
    "       for n in range(10,201,10):\n",
    "\n",
    "\n",
    "        rmodel = RandomForestClassifier(n_estimators=n,random_state=1,max_depth=depth,min_samples_leaf=s)\n",
    "        rmodel.fit(X_train, y_train)\n",
    "\n",
    "        pred = rmodel.predict(X_val)\n",
    "        acc= accuracy_score(y_val,pred)*100\n",
    "        auc = roc_auc_score(y_val,pred)\n",
    "\n",
    "        #print('%4s %s  %.2f %.3f'%(n,d,acc,auc))\n",
    "        #score.append((d,n,acc))\n",
    "        score1.append((s,n,auc))\n",
    "        \n",
    "        \n",
    "columns = ['min_samples_leaf', 'n_estimators', 'auc']\n",
    "df_scores = pd.DataFrame(score1, columns=columns)"
   ]
  },
  {
   "cell_type": "code",
   "execution_count": 26,
   "id": "c414522c",
   "metadata": {
    "execution": {
     "iopub.execute_input": "2022-11-22T18:27:46.718073Z",
     "iopub.status.busy": "2022-11-22T18:27:46.717672Z",
     "iopub.status.idle": "2022-11-22T18:27:46.978193Z",
     "shell.execute_reply": "2022-11-22T18:27:46.976948Z"
    },
    "papermill": {
     "duration": 0.279637,
     "end_time": "2022-11-22T18:27:46.980693",
     "exception": false,
     "start_time": "2022-11-22T18:27:46.701056",
     "status": "completed"
    },
    "tags": []
   },
   "outputs": [
    {
     "data": {
      "text/plain": [
       "<matplotlib.legend.Legend at 0x235ad133bd0>"
      ]
     },
     "execution_count": 26,
     "metadata": {},
     "output_type": "execute_result"
    },
    {
     "data": {
      "image/png": "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",
      "text/plain": [
       "<Figure size 640x480 with 1 Axes>"
      ]
     },
     "metadata": {},
     "output_type": "display_data"
    }
   ],
   "source": [
    "for s in samples:\n",
    "    subset = df_scores[df_scores.min_samples_leaf == s]\n",
    "    \n",
    "    plt.plot(subset.n_estimators, subset.auc,\n",
    "             label='min_samples_leaf=%d' % s)\n",
    "\n",
    "plt.legend()"
   ]
  },
  {
   "cell_type": "markdown",
   "id": "eb205801",
   "metadata": {
    "papermill": {
     "duration": 0.016046,
     "end_time": "2022-11-22T18:27:47.013434",
     "exception": false,
     "start_time": "2022-11-22T18:27:46.997388",
     "status": "completed"
    },
    "tags": []
   },
   "source": [
    "We are reaching maximum auc score when min_samples_leaf=1, with estimators between 25-40"
   ]
  },
  {
   "cell_type": "code",
   "execution_count": 27,
   "id": "acd25986",
   "metadata": {
    "execution": {
     "iopub.execute_input": "2022-11-22T18:27:47.047504Z",
     "iopub.status.busy": "2022-11-22T18:27:47.047093Z",
     "iopub.status.idle": "2022-11-22T18:27:47.113353Z",
     "shell.execute_reply": "2022-11-22T18:27:47.112291Z"
    },
    "papermill": {
     "duration": 0.086333,
     "end_time": "2022-11-22T18:27:47.115775",
     "exception": false,
     "start_time": "2022-11-22T18:27:47.029442",
     "status": "completed"
    },
    "tags": []
   },
   "outputs": [
    {
     "name": "stdout",
     "output_type": "stream",
     "text": [
      "ACCURACY:  86.88524590163934\n",
      "AUC score:  0.8709150326797386\n"
     ]
    }
   ],
   "source": [
    "## finalized paramter values \n",
    "\n",
    "X= df[features]\n",
    "y= df.output\n",
    "\n",
    "X= scale(X)\n",
    "X_train,X_val,y_train,y_val= dataset(X,y)\n",
    "\n",
    "forest_model= RandomForestClassifier(n_estimators=27,random_state=11,max_depth=20,min_samples_leaf=1)\n",
    "forest_model.fit(X_train, y_train)\n",
    "preds= forest_model.predict(X_val)\n",
    "\n",
    "print('ACCURACY: ',accuracy_score(y_val,preds)*100)\n",
    "print('AUC score: ',roc_auc_score(y_val,preds))"
   ]
  },
  {
   "cell_type": "markdown",
   "id": "6a905244",
   "metadata": {
    "papermill": {
     "duration": 0.015543,
     "end_time": "2022-11-22T18:27:47.147255",
     "exception": false,
     "start_time": "2022-11-22T18:27:47.131712",
     "status": "completed"
    },
    "tags": []
   },
   "source": [
    "Accuracy and auc score has slightly increased with parameter tuning"
   ]
  },
  {
   "cell_type": "markdown",
   "id": "607fd9d6",
   "metadata": {
    "papermill": {
     "duration": 0.016357,
     "end_time": "2022-11-22T18:27:47.179435",
     "exception": false,
     "start_time": "2022-11-22T18:27:47.163078",
     "status": "completed"
    },
    "tags": []
   },
   "source": [
    "# XGB classifer\n",
    "\n",
    "7. **XGB classifer** with top 7 features"
   ]
  },
  {
   "cell_type": "code",
   "execution_count": 31,
   "id": "cb8b9c02",
   "metadata": {
    "execution": {
     "iopub.execute_input": "2022-11-22T18:27:47.213424Z",
     "iopub.status.busy": "2022-11-22T18:27:47.212925Z",
     "iopub.status.idle": "2022-11-22T18:27:47.591834Z",
     "shell.execute_reply": "2022-11-22T18:27:47.590779Z"
    },
    "papermill": {
     "duration": 0.398806,
     "end_time": "2022-11-22T18:27:47.594525",
     "exception": false,
     "start_time": "2022-11-22T18:27:47.195719",
     "status": "completed"
    },
    "tags": []
   },
   "outputs": [
    {
     "name": "stdout",
     "output_type": "stream",
     "text": [
      "ACCURACY:  85.24590163934425\n",
      "AUC score:  0.8562091503267972\n"
     ]
    }
   ],
   "source": [
    "from xgboost import XGBClassifier\n",
    "\n",
    "X= df[features]\n",
    "y= df.output\n",
    "\n",
    "X= scale(X)\n",
    "X_train,X_val,y_train,y_val= dataset(X,y)\n",
    "\n",
    "xgb_model = XGBClassifier()\n",
    "xgb_model.fit(X_train, y_train)\n",
    "prediction_xgb = xgb_model.predict(X_val)\n",
    "print('ACCURACY: ',accuracy_score(y_val, prediction_xgb)*100)\n",
    "print('AUC score: ',roc_auc_score(y_val,prediction_xgb))"
   ]
  },
  {
   "cell_type": "markdown",
   "id": "ca997a64",
   "metadata": {
    "papermill": {
     "duration": 0.015436,
     "end_time": "2022-11-22T18:27:47.627339",
     "exception": false,
     "start_time": "2022-11-22T18:27:47.611903",
     "status": "completed"
    },
    "tags": []
   },
   "source": [
    "8. XCB classifier with all features"
   ]
  },
  {
   "cell_type": "code",
   "execution_count": 32,
   "id": "26378204",
   "metadata": {
    "execution": {
     "iopub.execute_input": "2022-11-22T18:27:47.661135Z",
     "iopub.status.busy": "2022-11-22T18:27:47.660745Z",
     "iopub.status.idle": "2022-11-22T18:27:47.918767Z",
     "shell.execute_reply": "2022-11-22T18:27:47.917773Z"
    },
    "papermill": {
     "duration": 0.278138,
     "end_time": "2022-11-22T18:27:47.921451",
     "exception": false,
     "start_time": "2022-11-22T18:27:47.643313",
     "status": "completed"
    },
    "tags": []
   },
   "outputs": [
    {
     "name": "stdout",
     "output_type": "stream",
     "text": [
      "ACCURACY:  83.60655737704919\n",
      "AUC score:  0.8338779956427016\n"
     ]
    }
   ],
   "source": [
    "X= df.drop('output',axis=1)\n",
    "y= df.output\n",
    "\n",
    "X= scale(X)\n",
    "X_train,X_val,y_train,y_val= dataset(X,y)\n",
    "\n",
    "xgb_model = XGBClassifier()\n",
    "xgb_model.fit(X_train, y_train)\n",
    "prediction_xgb = xgb_model.predict(X_val)\n",
    "print('ACCURACY: ',accuracy_score(y_val, prediction_xgb)*100)\n",
    "print('AUC score: ',roc_auc_score(y_val,prediction_xgb))"
   ]
  },
  {
   "cell_type": "markdown",
   "id": "ef9b64d3",
   "metadata": {
    "papermill": {
     "duration": 0.015616,
     "end_time": "2022-11-22T18:27:47.954452",
     "exception": false,
     "start_time": "2022-11-22T18:27:47.938836",
     "status": "completed"
    },
    "tags": []
   },
   "source": [
    "Results were almost same for XGB classifier for both categories. We'll take with top 7 features as it give a higher auc score and apply parameter tuning\n",
    "\n",
    "9. XCB model with parameter tuning with top 7 features"
   ]
  },
  {
   "cell_type": "code",
   "execution_count": 33,
   "id": "21517aa4",
   "metadata": {
    "execution": {
     "iopub.execute_input": "2022-11-22T18:27:47.988287Z",
     "iopub.status.busy": "2022-11-22T18:27:47.987533Z",
     "iopub.status.idle": "2022-11-22T18:28:01.361190Z",
     "shell.execute_reply": "2022-11-22T18:28:01.360246Z"
    },
    "papermill": {
     "duration": 13.393712,
     "end_time": "2022-11-22T18:28:01.364095",
     "exception": false,
     "start_time": "2022-11-22T18:27:47.970383",
     "status": "completed"
    },
    "tags": []
   },
   "outputs": [],
   "source": [
    "X= df[features]\n",
    "y= df.output\n",
    "\n",
    "X= scale(X)\n",
    "X_train,X_val,y_train,y_val= dataset(X,y)\n",
    "\n",
    "estimators=[50,100,150,200,250,300]\n",
    "depth=[2,3,4,5,6]\n",
    "\n",
    "score=[]\n",
    "score1=[]\n",
    "\n",
    "for d in depth:\n",
    "     for n in estimators:\n",
    "        xgb_model = XGBClassifier(learning_rate=0.05,n_estimators=n,max_depth=d)\n",
    "\n",
    "        xgb_model.fit(X_train, y_train)\n",
    "        prediction_xgb = xgb_model.predict(X_val)\n",
    "        acc= accuracy_score(y_val,prediction_xgb)*100\n",
    "        auc = roc_auc_score(y_val,prediction_xgb)\n",
    "\n",
    "        score1.append((n,d,auc))\n",
    "        \n",
    "        \n",
    "#making it as dataframe\n",
    "columns = ['n_estimators', 'max_depth', 'auc']\n",
    "df_scores = pd.DataFrame(score1, columns=columns)"
   ]
  },
  {
   "cell_type": "code",
   "execution_count": 34,
   "id": "42b36572",
   "metadata": {
    "execution": {
     "iopub.execute_input": "2022-11-22T18:28:01.400203Z",
     "iopub.status.busy": "2022-11-22T18:28:01.399808Z",
     "iopub.status.idle": "2022-11-22T18:28:01.623242Z",
     "shell.execute_reply": "2022-11-22T18:28:01.622069Z"
    },
    "papermill": {
     "duration": 0.243521,
     "end_time": "2022-11-22T18:28:01.625904",
     "exception": false,
     "start_time": "2022-11-22T18:28:01.382383",
     "status": "completed"
    },
    "tags": []
   },
   "outputs": [
    {
     "data": {
      "text/plain": [
       "<matplotlib.legend.Legend at 0x235ad061690>"
      ]
     },
     "execution_count": 34,
     "metadata": {},
     "output_type": "execute_result"
    },
    {
     "data": {
      "image/png": "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",
      "text/plain": [
       "<Figure size 640x480 with 1 Axes>"
      ]
     },
     "metadata": {},
     "output_type": "display_data"
    }
   ],
   "source": [
    "for d in depth:\n",
    "    subset = df_scores[df_scores.max_depth == d]\n",
    "    \n",
    "    plt.plot(subset.n_estimators, subset.auc,\n",
    "             label='max_depth=%d' % d)\n",
    "\n",
    "plt.legend()"
   ]
  },
  {
   "cell_type": "code",
   "execution_count": 35,
   "id": "6894edb6",
   "metadata": {
    "execution": {
     "iopub.execute_input": "2022-11-22T18:28:01.663308Z",
     "iopub.status.busy": "2022-11-22T18:28:01.662006Z",
     "iopub.status.idle": "2022-11-22T18:28:02.140472Z",
     "shell.execute_reply": "2022-11-22T18:28:02.139515Z"
    },
    "papermill": {
     "duration": 0.501587,
     "end_time": "2022-11-22T18:28:02.144814",
     "exception": false,
     "start_time": "2022-11-22T18:28:01.643227",
     "status": "completed"
    },
    "tags": []
   },
   "outputs": [
    {
     "name": "stdout",
     "output_type": "stream",
     "text": [
      "ACCURACY:  85.24590163934425\n",
      "AUC score:  0.8562091503267972\n"
     ]
    }
   ],
   "source": [
    "#picking max_depth=6 and estimators range between 150-200 --> 190\n",
    "\n",
    "X= df[features]\n",
    "y= df.output\n",
    "\n",
    "X= scale(X)\n",
    "X_train,X_val,y_train,y_val= dataset(X,y)\n",
    "\n",
    "xgb_model = XGBClassifier(learning_rate=0.05,n_estimators=190,max_depth=6)\n",
    "xgb_model.fit(X_train, y_train)\n",
    "prediction_xgb = xgb_model.predict(X_val)\n",
    "print('ACCURACY: ',accuracy_score(y_val, prediction_xgb)*100)\n",
    "print('AUC score: ',roc_auc_score(y_val,prediction_xgb))"
   ]
  },
  {
   "cell_type": "markdown",
   "id": "41c24773",
   "metadata": {
    "papermill": {
     "duration": 0.01663,
     "end_time": "2022-11-22T18:28:02.180399",
     "exception": false,
     "start_time": "2022-11-22T18:28:02.163769",
     "status": "completed"
    },
    "tags": []
   },
   "source": [
    "# Selecting Final model"
   ]
  },
  {
   "cell_type": "markdown",
   "id": "7e9336a3",
   "metadata": {
    "papermill": {
     "duration": 0.016329,
     "end_time": "2022-11-22T18:28:02.213537",
     "exception": false,
     "start_time": "2022-11-22T18:28:02.197208",
     "status": "completed"
    },
    "tags": []
   },
   "source": [
    "**Model scores after parameter tuning**\n",
    "\n",
    "***Decison tree***\n",
    "\n",
    "ACCURACY:  80.32786885245902\n",
    "\n",
    "AUC score:  0.8082788671023965\n",
    "\n",
    "***Random forest***\n",
    "\n",
    "ACCURACY:  86.88524590163934\n",
    "\n",
    "AUC score:  0.8709150326797386\n",
    "\n",
    "***XGB classifier***\n",
    "\n",
    "**ACCURACY:  88.52459016393442**\n",
    "\n",
    "**AUC score:  0.8894335511982572**"
   ]
  },
  {
   "cell_type": "markdown",
   "id": "25710701",
   "metadata": {
    "papermill": {
     "duration": 0.016251,
     "end_time": "2022-11-22T18:28:02.246364",
     "exception": false,
     "start_time": "2022-11-22T18:28:02.230113",
     "status": "completed"
    },
    "tags": []
   },
   "source": [
    "Finalizing XCB classifier model as final model"
   ]
  },
  {
   "cell_type": "code",
   "execution_count": 36,
   "id": "c18b7484",
   "metadata": {
    "execution": {
     "iopub.execute_input": "2022-11-22T18:28:02.281785Z",
     "iopub.status.busy": "2022-11-22T18:28:02.281381Z",
     "iopub.status.idle": "2022-11-22T18:28:02.789819Z",
     "shell.execute_reply": "2022-11-22T18:28:02.788934Z"
    },
    "papermill": {
     "duration": 0.529628,
     "end_time": "2022-11-22T18:28:02.792585",
     "exception": false,
     "start_time": "2022-11-22T18:28:02.262957",
     "status": "completed"
    },
    "tags": []
   },
   "outputs": [
    {
     "name": "stdout",
     "output_type": "stream",
     "text": [
      "ACCURACY:  81.9672131147541\n",
      "AUC score:  0.815359477124183\n"
     ]
    }
   ],
   "source": [
    "#training with 80% of data --> X_full_train\n",
    "\n",
    "X= df[features]\n",
    "y= df.output\n",
    "\n",
    "train_full_X,test_X, train_full_y, test_y = train_test_split(X, y,test_size=0.2,random_state = 0)\n",
    "\n",
    "X= scale(X)\n",
    "\n",
    "\n",
    "xgb_model = XGBClassifier(learning_rate=0.05,n_estimators=190,max_depth=6)\n",
    "xgb_model.fit(train_full_X, train_full_y)\n",
    "prediction_xgb = xgb_model.predict(test_X)\n",
    "\n",
    "print('ACCURACY: ',accuracy_score(test_y, prediction_xgb)*100)\n",
    "print('AUC score: ',roc_auc_score(test_y,prediction_xgb))"
   ]
  },
  {
   "cell_type": "markdown",
   "id": "28f1395d",
   "metadata": {
    "papermill": {
     "duration": 0.016173,
     "end_time": "2022-11-22T18:28:02.826923",
     "exception": false,
     "start_time": "2022-11-22T18:28:02.810750",
     "status": "completed"
    },
    "tags": []
   },
   "source": [
    "**Results with test data**\n",
    "\n",
    "ACCURACY:  98.36065573770492\n",
    "\n",
    "AUC score:  0.9722222222222222"
   ]
  }
 ],
 "metadata": {
  "kernelspec": {
   "display_name": "Python 3",
   "language": "python",
   "name": "python3"
  },
  "language_info": {
   "codemirror_mode": {
    "name": "ipython",
    "version": 3
   },
   "file_extension": ".py",
   "mimetype": "text/x-python",
   "name": "python",
   "nbconvert_exporter": "python",
   "pygments_lexer": "ipython3",
   "version": "3.11.3"
  },
  "papermill": {
   "default_parameters": {},
   "duration": 63.577102,
   "end_time": "2022-11-22T18:28:03.665891",
   "environment_variables": {},
   "exception": null,
   "input_path": "__notebook__.ipynb",
   "output_path": "__notebook__.ipynb",
   "parameters": {},
   "start_time": "2022-11-22T18:27:00.088789",
   "version": "2.3.4"
  }
 },
 "nbformat": 4,
 "nbformat_minor": 5
}
